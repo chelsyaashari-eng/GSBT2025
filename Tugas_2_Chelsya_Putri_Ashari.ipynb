{
  "nbformat": 4,
  "nbformat_minor": 0,
  "metadata": {
    "colab": {
      "provenance": []
    },
    "kernelspec": {
      "name": "python3",
      "display_name": "Python 3"
    },
    "language_info": {
      "name": "python"
    }
  },
  "cells": [
    {
      "cell_type": "markdown",
      "source": [
        "# Overview Materi\n",
        "\n",
        "Source: https://www.youtube.com/watch?v=LDRbO9a6XPU"
      ],
      "metadata": {
        "id": "fQjXfMWTFXhh"
      }
    },
    {
      "cell_type": "markdown",
      "source": [
        "Jelaskan secara singkat apa itu decision tree menurut pemahamanmu!"
      ],
      "metadata": {
        "id": "UH5otNgmFY4r"
      }
    },
    {
      "cell_type": "markdown",
      "source": [
        "# Import Data & Libraries"
      ],
      "metadata": {
        "id": "yR_dxhoaIGZY"
      }
    },
    {
      "cell_type": "code",
      "execution_count": 2,
      "metadata": {
        "id": "E3fobMaeFOAe"
      },
      "outputs": [],
      "source": [
        "from __future__ import print_function\n",
        "\n",
        "# label kolom\n",
        "header = [\"color\", \"diameter\", \"label\"]\n",
        "\n",
        "# data training\n",
        "training_data = [\n",
        "    ['Green', 3, 'Apple'],\n",
        "    ['Yellow', 3, 'Apple'],\n",
        "    ['Red', 1, 'Grape'],\n",
        "    ['Red', 1, 'Grape'],\n",
        "    ['Yellow', 3, 'Lemon'],]\n",
        "\n",
        "# data testing\n",
        "testing_data = [\n",
        "    ['Green', 3, 'Apple'],\n",
        "    ['Yellow', 4, 'Apple'],\n",
        "    ['Red', 2, 'Grape'],\n",
        "    ['Red', 1, 'Grape'],\n",
        "    ['Yellow', 3, 'Lemon'],]"
      ]
    },
    {
      "cell_type": "markdown",
      "source": [
        "# Fungsi Dasar"
      ],
      "metadata": {
        "id": "YMsTb3E1MWY6"
      }
    },
    {
      "cell_type": "code",
      "source": [
        "# fungsi mencari apa saja unique value dari suatu kolom\n",
        "def unique_vals(rows, col):\n",
        "    return set([row[col] for row in rows])\n",
        "\n",
        "\n",
        "# contoh penggunaan\n",
        "print(unique_vals(training_data, 0))"
      ],
      "metadata": {
        "id": "Bgzx5gwhSTWp",
        "colab": {
          "base_uri": "https://localhost:8080/"
        },
        "outputId": "a77cc191-2455-435e-a993-2dc76aa1647f"
      },
      "execution_count": 4,
      "outputs": [
        {
          "output_type": "stream",
          "name": "stdout",
          "text": [
            "{'Red', 'Yellow', 'Green'}\n"
          ]
        }
      ]
    },
    {
      "cell_type": "code",
      "source": [
        "# fungsi Menghitung jumlah unique value dari suatu kolom\n",
        "def class_counts(rows):\n",
        "    counts = {}\n",
        "    for row in rows:\n",
        "        label = row[-1]\n",
        "        if label not in counts:\n",
        "            counts[label] = 0\n",
        "        counts[label] += 1\n",
        "    return counts\n",
        "\n",
        "# contoh penggunaan\n",
        "print(class_counts(training_data))"
      ],
      "metadata": {
        "id": "hhF6uUhrJesN",
        "colab": {
          "base_uri": "https://localhost:8080/"
        },
        "outputId": "285a110e-e016-476d-8b83-966c62966def"
      },
      "execution_count": 11,
      "outputs": [
        {
          "output_type": "stream",
          "name": "stdout",
          "text": [
            "{'Apple': 2, 'Grape': 2, 'Lemon': 1}\n"
          ]
        }
      ]
    },
    {
      "cell_type": "code",
      "source": [
        "# fungsi pengecekan suatu value numerik atau bukan\n",
        "def is_numeric(value):\n",
        "    return isinstance(value, (int, float))\n",
        "\n",
        "# contoh penggunaan\n",
        "print(is_numeric(3))\n",
        "print(is_numeric(\"3\"))"
      ],
      "metadata": {
        "id": "U9mxqVcnI9vw",
        "colab": {
          "base_uri": "https://localhost:8080/"
        },
        "outputId": "16583a2f-4c78-471b-e5a7-9107294fac77"
      },
      "execution_count": 12,
      "outputs": [
        {
          "output_type": "stream",
          "name": "stdout",
          "text": [
            "True\n",
            "False\n"
          ]
        }
      ]
    },
    {
      "cell_type": "code",
      "source": [
        "# kelas untuk merepresentasikan pertanyaan pada decision tree\n",
        "class Question:\n",
        "\n",
        "    # inisialisasi kolom dan nilai pertanyaan\n",
        "    def __init__(self, column, value):\n",
        "        self.column = column\n",
        "        self.value = value\n",
        "\n",
        "    # mengecek apakah contoh data sesuai dengan pertanyaan\n",
        "    def match(self, example):\n",
        "        val = example[self.column]\n",
        "        if is_numeric(val):\n",
        "            return val >= self.value\n",
        "        else:\n",
        "            return val == self.value\n",
        "\n",
        "    # menampilkan pertanyaan dalam format string yang mudah dibaca\n",
        "    def __repr__(self):\n",
        "        condition = \"==\"\n",
        "        if is_numeric(self.value):\n",
        "            condition = \">=\"\n",
        "        return f\"Is {header[self.column]} {condition} {str(self.value)}?\"\n",
        "\n",
        "\n",
        "# contoh penggunaan 1\n",
        "q = Question(0, 'Green')\n",
        "print(q)\n",
        "print(q.match(training_data[0]))"
      ],
      "metadata": {
        "id": "MekftmdeLPRo",
        "colab": {
          "base_uri": "https://localhost:8080/"
        },
        "outputId": "fc6453c0-652d-4cdf-ab99-f1fb541132ea"
      },
      "execution_count": 13,
      "outputs": [
        {
          "output_type": "stream",
          "name": "stdout",
          "text": [
            "Is color == Green?\n",
            "True\n"
          ]
        }
      ]
    },
    {
      "cell_type": "code",
      "source": [
        "# membagi dataset menjadi dua berdasarkan pertanyaan\n",
        "def partition(rows, question):\n",
        "    true_rows, false_rows = [], []\n",
        "    for row in rows:\n",
        "        if question.match(row):\n",
        "            true_rows.append(row)\n",
        "        else:\n",
        "            false_rows.append(row)\n",
        "    return true_rows, false_rows\n",
        "\n",
        "# contoh penggunaan\n",
        "true, false = partition(training_data, Question(0, 'Red'))\n",
        "print(\"True:\", true)\n",
        "print(\"False:\", false)"
      ],
      "metadata": {
        "id": "Y3lTf9NbL8Ik",
        "colab": {
          "base_uri": "https://localhost:8080/"
        },
        "outputId": "0b2ee3e9-f5df-4eaf-bafa-7e9b7473fa44"
      },
      "execution_count": 14,
      "outputs": [
        {
          "output_type": "stream",
          "name": "stdout",
          "text": [
            "True: [['Red', 1, 'Grape'], ['Red', 1, 'Grape']]\n",
            "False: [['Green', 3, 'Apple'], ['Yellow', 3, 'Apple'], ['Yellow', 3, 'Lemon']]\n"
          ]
        }
      ]
    },
    {
      "cell_type": "markdown",
      "source": [
        "**apa itu gini impurity?**\n",
        "<br> gini impurity berfungsi mengukur tingkat ketidakmurnian atau ketidakteraturan pada sebuah simpul (node) dalam pohon"
      ],
      "metadata": {
        "id": "X4D5BkyeMdSG"
      }
    },
    {
      "cell_type": "code",
      "source": [
        "# menghitung nilai Gini Impurity untuk sebuah dataset\n",
        "def gini(rows):\n",
        "    counts = class_counts(rows)\n",
        "    impurity = 1\n",
        "    for label in counts:\n",
        "        prob = counts[label] / len(rows)\n",
        "        impurity -= prob ** 2\n",
        "    return impurity\n",
        "\n",
        "# contoh penggunaan\n",
        "print(gini(training_data))"
      ],
      "metadata": {
        "id": "DmAnmSzFMKtA",
        "colab": {
          "base_uri": "https://localhost:8080/"
        },
        "outputId": "4cba92c1-a05f-46d6-eb86-2b9ef3207bf6"
      },
      "execution_count": 15,
      "outputs": [
        {
          "output_type": "stream",
          "name": "stdout",
          "text": [
            "0.6399999999999999\n"
          ]
        }
      ]
    },
    {
      "cell_type": "markdown",
      "source": [
        "**apa itu information gain?**\n",
        "<br> information gain berfungsi mengukur seberapa efektif sebuah fitur dalam memisahkan data berdasarkan kelas-kelasnya"
      ],
      "metadata": {
        "id": "SyxWlLNOM_2U"
      }
    },
    {
      "cell_type": "code",
      "source": [
        "# menghitung nilai Information Gain dari pemisahan dataset\n",
        "def info_gain(left, right, current_uncertainty):\n",
        "     p = len(left) / (len(left) + len(right))\n",
        "     return current_uncertainty - p * gini(left) - (1 - p) * gini(right)\n",
        "\n",
        "# contoh penggunaan\n",
        "current_uncertainty = gini(training_data)\n",
        "true_rows, false_rows = partition(training_data, Question(0, 'Green'))\n",
        "print(info_gain(true_rows, false_rows, current_uncertainty))"
      ],
      "metadata": {
        "id": "rObVucEEMiIZ",
        "colab": {
          "base_uri": "https://localhost:8080/"
        },
        "outputId": "3c5e9e4f-2246-49f6-8d42-71505d7b96f2"
      },
      "execution_count": 18,
      "outputs": [
        {
          "output_type": "stream",
          "name": "stdout",
          "text": [
            "0.1399999999999999\n"
          ]
        }
      ]
    },
    {
      "cell_type": "code",
      "source": [
        "# mencari pertanyaan terbaik untuk membagi dataset berdasarkan information gain tertinggi\n",
        "def find_best_split(rows):\n",
        "     best_gain = 0\n",
        "     best_question = None\n",
        "     current_uncertainty = gini(rows)\n",
        "     n_features = len(rows[0]) - 1\n",
        "\n",
        "     for col in range(n_features):\n",
        "        values = set([row[col] for row in rows])\n",
        "        for val in values:\n",
        "            question = Question(col, val)\n",
        "            true_rows, false_rows = partition(rows, question)\n",
        "\n",
        "            if len(true_rows) == 0 or len(false_rows) == 0:\n",
        "                continue\n",
        "\n",
        "            gain = info_gain(true_rows, false_rows, current_uncertainty)\n",
        "\n",
        "            if gain >= best_gain:\n",
        "                best_gain, best_question = gain, question\n",
        "\n",
        "     return best_gain, best_question\n",
        "\n",
        "# contoh penggunaan\n",
        "gain, question = find_best_split(training_data)\n",
        "print(\"Best Gain:\", gain)\n",
        "print(\"Best Question:\", question)"
      ],
      "metadata": {
        "id": "OK8Lc7koOIyS",
        "colab": {
          "base_uri": "https://localhost:8080/"
        },
        "outputId": "622be36e-d9e8-45ee-b1a1-3153663c150e"
      },
      "execution_count": 25,
      "outputs": [
        {
          "output_type": "stream",
          "name": "stdout",
          "text": [
            "Best Gain: 0.37333333333333324\n",
            "Best Question: Is diameter >= 3?\n"
          ]
        }
      ]
    },
    {
      "cell_type": "markdown",
      "source": [
        "# Fungsi Decision Tree"
      ],
      "metadata": {
        "id": "t225xaaIPGow"
      }
    },
    {
      "cell_type": "code",
      "source": [
        "# merepresentasikan node daun (leaf) pada decision tree yang berisi hasil prediksi\n",
        "class Leaf:\n",
        "   def __init__(self, rows):\n",
        "        self.predictions = class_counts(rows)"
      ],
      "metadata": {
        "id": "3KXNVwMPOZ5c"
      },
      "execution_count": 39,
      "outputs": []
    },
    {
      "cell_type": "code",
      "source": [
        "# merepresentasikan node keputusan (decision node) yang berisi pertanyaan dan cabang\n",
        "class Decision_Node:\n",
        "  def __init__(self, question, true_branch, false_branch):\n",
        "        self.question = question\n",
        "        self.true_branch = true_branch\n",
        "        self.false_branch = false_branch\n"
      ],
      "metadata": {
        "id": "gktUwUY-P-eN"
      },
      "execution_count": 88,
      "outputs": []
    },
    {
      "cell_type": "code",
      "source": [
        "# membangun decision tree secara rekursif\n",
        "def build_tree(rows):\n",
        "    gain, question = find_best_split(rows)\n",
        "\n",
        "    if gain == 0:\n",
        "        return Leaf(rows)\n",
        "\n",
        "    true_rows, false_rows = partition(rows, question)\n",
        "\n",
        "    true_branch = build_tree(true_rows)\n",
        "    false_branch = build_tree(false_rows)\n",
        "\n",
        "    return Decision_Node(question, true_branch, false_branch)"
      ],
      "metadata": {
        "id": "_cWHvsMKPPsk"
      },
      "execution_count": 50,
      "outputs": []
    },
    {
      "cell_type": "code",
      "source": [
        "# mencetak struktur decision tree secara rekursif dalam format teks\n",
        "def print_tree(node, spacing=\"\"):\n",
        "\n",
        "    # base case: jika sudah mencapai leaf\n",
        "     if isinstance(node, Leaf):\n",
        "        print(spacing + \"Predict\", node.predictions)\n",
        "        return\n",
        "\n",
        "    # mencetak pertanyaan pada node saat ini\n",
        "    print(spacing + str(node.question))\n",
        "\n",
        "    # mencetak cabang true secara rekursif\n",
        "    print(spacing + '--> True:')\n",
        "    print_tree(node.true_branch, spacing + \"  \")\n",
        "\n",
        "    # mencetak cabang false secara rekursif\n",
        "    print(spacing + '--> False:')\n",
        "    print_tree(node.false_branch, spacing + \"  \")\n",
        "\n",
        "\n",
        "# contoh penggunaan\n",
        "print_tree(my_tree)"
      ],
      "metadata": {
        "id": "tx_AbjiYPS05",
        "colab": {
          "base_uri": "https://localhost:8080/",
          "height": 106
        },
        "outputId": "da4f9832-c2fc-4d2a-9c2e-e8d4654b296a"
      },
      "execution_count": 87,
      "outputs": [
        {
          "output_type": "error",
          "ename": "IndentationError",
          "evalue": "unindent does not match any outer indentation level (<tokenize>, line 13)",
          "traceback": [
            "\u001b[0;36m  File \u001b[0;32m\"<tokenize>\"\u001b[0;36m, line \u001b[0;32m13\u001b[0m\n\u001b[0;31m    print(spacing + '--> True:')\u001b[0m\n\u001b[0m    ^\u001b[0m\n\u001b[0;31mIndentationError\u001b[0m\u001b[0;31m:\u001b[0m unindent does not match any outer indentation level\n"
          ]
        }
      ]
    },
    {
      "cell_type": "code",
      "source": [
        "# mengklasifikasikan satu baris data menggunakan decision tree\n",
        "def classify(row, node):\n",
        "    # base case: jika sudah mencapai leaf\n",
        "    if isinstance(node, Leaf):\n",
        "        return node.predictions\n",
        "\n",
        "    # menentukan apakah mengikuti cabang true atau cabang false\n",
        "    if node.question.match(row):\n",
        "        return classify(row, node.true_branch)\n",
        "    else:\n",
        "        return classify(row, node.false_branch)\n",
        "\n",
        "# menampilkan prediksi pada leaf dalam format persentase\n",
        "def print_leaf(counts):\n",
        "    total = sum(counts.values())\n",
        "    probs = {}\n",
        "    for label in counts:\n",
        "        probs[label] = str(int(counts[label] / total * 100)) + \"%\"\n",
        "    return probs\n",
        "# contoh penggunaan\n",
        "for row in testing_data:\n",
        "    print(f\"Actual: {row[-1]}, Predicted: {print_leaf(classify(row, my_tree))}\")"
      ],
      "metadata": {
        "id": "tchvhQc-PVC2",
        "colab": {
          "base_uri": "https://localhost:8080/",
          "height": 176
        },
        "outputId": "8ae99806-b37b-4ebe-85d8-732ff080ed04"
      },
      "execution_count": 76,
      "outputs": [
        {
          "output_type": "error",
          "ename": "NameError",
          "evalue": "name 'my_tree' is not defined",
          "traceback": [
            "\u001b[0;31m---------------------------------------------------------------------------\u001b[0m",
            "\u001b[0;31mNameError\u001b[0m                                 Traceback (most recent call last)",
            "\u001b[0;32m/tmp/ipython-input-622571998.py\u001b[0m in \u001b[0;36m<cell line: 0>\u001b[0;34m()\u001b[0m\n\u001b[1;32m     20\u001b[0m \u001b[0;31m# contoh penggunaan\u001b[0m\u001b[0;34m\u001b[0m\u001b[0;34m\u001b[0m\u001b[0m\n\u001b[1;32m     21\u001b[0m \u001b[0;32mfor\u001b[0m \u001b[0mrow\u001b[0m \u001b[0;32min\u001b[0m \u001b[0mtesting_data\u001b[0m\u001b[0;34m:\u001b[0m\u001b[0;34m\u001b[0m\u001b[0;34m\u001b[0m\u001b[0m\n\u001b[0;32m---> 22\u001b[0;31m     \u001b[0mprint\u001b[0m\u001b[0;34m(\u001b[0m\u001b[0;34mf\"Actual: {row[-1]}, Predicted: {print_leaf(classify(row, my_tree))}\"\u001b[0m\u001b[0;34m)\u001b[0m\u001b[0;34m\u001b[0m\u001b[0;34m\u001b[0m\u001b[0m\n\u001b[0m",
            "\u001b[0;31mNameError\u001b[0m: name 'my_tree' is not defined"
          ]
        }
      ]
    },
    {
      "cell_type": "code",
      "source": [
        "# menampilkan prediksi pada leaf dalam format persentase\n",
        "def print_leaf(counts):\n",
        "    total = sum(counts.values())\n",
        "    probs = {}\n",
        "    for label in counts:\n",
        "        probs[label] = str(int(counts[label] / total * 100)) + \"%\"\n",
        "    return probs\n",
        "\n",
        "# contoh penggunaan\n",
        "for row in testing_data:\n",
        "    print(f\"Actual: {row[-1]}, Predicted: {print_leaf(classify(row, my_tree))}\")"
      ],
      "metadata": {
        "id": "w8r0lzWpQM7c",
        "colab": {
          "base_uri": "https://localhost:8080/",
          "height": 176
        },
        "outputId": "53822bf4-382e-45c6-f08b-22eeab520527"
      },
      "execution_count": 79,
      "outputs": [
        {
          "output_type": "error",
          "ename": "NameError",
          "evalue": "name 'my_tree' is not defined",
          "traceback": [
            "\u001b[0;31m---------------------------------------------------------------------------\u001b[0m",
            "\u001b[0;31mNameError\u001b[0m                                 Traceback (most recent call last)",
            "\u001b[0;32m/tmp/ipython-input-1730424432.py\u001b[0m in \u001b[0;36m<cell line: 0>\u001b[0;34m()\u001b[0m\n\u001b[1;32m      9\u001b[0m \u001b[0;31m# contoh penggunaan\u001b[0m\u001b[0;34m\u001b[0m\u001b[0;34m\u001b[0m\u001b[0m\n\u001b[1;32m     10\u001b[0m \u001b[0;32mfor\u001b[0m \u001b[0mrow\u001b[0m \u001b[0;32min\u001b[0m \u001b[0mtesting_data\u001b[0m\u001b[0;34m:\u001b[0m\u001b[0;34m\u001b[0m\u001b[0;34m\u001b[0m\u001b[0m\n\u001b[0;32m---> 11\u001b[0;31m     \u001b[0mprint\u001b[0m\u001b[0;34m(\u001b[0m\u001b[0;34mf\"Actual: {row[-1]}, Predicted: {print_leaf(classify(row, my_tree))}\"\u001b[0m\u001b[0;34m)\u001b[0m\u001b[0;34m\u001b[0m\u001b[0;34m\u001b[0m\u001b[0m\n\u001b[0m",
            "\u001b[0;31mNameError\u001b[0m: name 'my_tree' is not defined"
          ]
        }
      ]
    },
    {
      "cell_type": "markdown",
      "source": [
        "# Predict Using Decision Tree"
      ],
      "metadata": {
        "id": "JLT1_TuuQWlI"
      }
    },
    {
      "cell_type": "code",
      "source": [
        "# menguji decision tree dengan data uji dan membandingkan hasil prediksi dengan label asli\n",
        "for row in testing_data:\n",
        "    pred = classify(row, my_tree)\n",
        "    print(f\"Data: {row} -> Predicted: {print_leaf(pred)}\")"
      ],
      "metadata": {
        "id": "DhG5NCwHQSlF",
        "colab": {
          "base_uri": "https://localhost:8080/",
          "height": 193
        },
        "outputId": "677b5fd5-1a6f-4386-8f7e-4d9b780a5ced"
      },
      "execution_count": 80,
      "outputs": [
        {
          "output_type": "error",
          "ename": "NameError",
          "evalue": "name 'my_tree' is not defined",
          "traceback": [
            "\u001b[0;31m---------------------------------------------------------------------------\u001b[0m",
            "\u001b[0;31mNameError\u001b[0m                                 Traceback (most recent call last)",
            "\u001b[0;32m/tmp/ipython-input-2632343374.py\u001b[0m in \u001b[0;36m<cell line: 0>\u001b[0;34m()\u001b[0m\n\u001b[1;32m      1\u001b[0m \u001b[0;31m# menguji decision tree dengan data uji dan membandingkan hasil prediksi dengan label asli\u001b[0m\u001b[0;34m\u001b[0m\u001b[0;34m\u001b[0m\u001b[0m\n\u001b[1;32m      2\u001b[0m \u001b[0;32mfor\u001b[0m \u001b[0mrow\u001b[0m \u001b[0;32min\u001b[0m \u001b[0mtesting_data\u001b[0m\u001b[0;34m:\u001b[0m\u001b[0;34m\u001b[0m\u001b[0;34m\u001b[0m\u001b[0m\n\u001b[0;32m----> 3\u001b[0;31m     \u001b[0mpred\u001b[0m \u001b[0;34m=\u001b[0m \u001b[0mclassify\u001b[0m\u001b[0;34m(\u001b[0m\u001b[0mrow\u001b[0m\u001b[0;34m,\u001b[0m \u001b[0mmy_tree\u001b[0m\u001b[0;34m)\u001b[0m\u001b[0;34m\u001b[0m\u001b[0;34m\u001b[0m\u001b[0m\n\u001b[0m\u001b[1;32m      4\u001b[0m     \u001b[0mprint\u001b[0m\u001b[0;34m(\u001b[0m\u001b[0;34mf\"Data: {row} -> Predicted: {print_leaf(pred)}\"\u001b[0m\u001b[0;34m)\u001b[0m\u001b[0;34m\u001b[0m\u001b[0;34m\u001b[0m\u001b[0m\n",
            "\u001b[0;31mNameError\u001b[0m: name 'my_tree' is not defined"
          ]
        }
      ]
    }
  ]
}