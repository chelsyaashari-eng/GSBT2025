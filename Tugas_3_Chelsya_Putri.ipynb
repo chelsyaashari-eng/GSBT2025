{
  "nbformat": 4,
  "nbformat_minor": 0,
  "metadata": {
    "colab": {
      "provenance": []
    },
    "kernelspec": {
      "name": "python3",
      "display_name": "Python 3"
    },
    "language_info": {
      "name": "python"
    }
  },
  "cells": [
    {
      "cell_type": "markdown",
      "source": [
        "# BayesianSearchCV\n",
        "\n",
        "1. Apa itu hyperparameter tuning?\n",
        "Hyperparameter tuning adalah proses mencari kombinasi parameter terbaik untuk model machine learning. Parameter ini ditentukan SEBELUM training (seperti jumlah tree di Random Forest, learning rate, dll) dan mempengaruhi performa model.\n",
        "2. Jelaskan metode BayesSearchCV!\n",
        "BayesSearchCV adalah metode hyperparameter tuning yang menggunakan Bayesian Optimization. Berbeda dengan Grid Search yang mencoba semua kombinasi, atau Random Search yang mencoba secara acak, BayesSearchCV menggunakan pendekatan probabilistik untuk memilih kombinasi yang paling promising berdasarkan evaluasi sebelumnya.\n",
        "3. Bagaimana cara kerja BayesSearchCV?\n",
        "-Membangun model surrogate (biasanya Gaussian Process) yang memperkirakan hubungan antara hyperparameter dan performa model\n",
        "\n",
        "-Menggunakan acquisition function untuk memilih kombinasi hyperparameter berikutnya yang paling mungkin meningkatkan performa\n",
        "\n",
        "-Secara iteratif memperbarui model surrogate berdasarkan hasil evaluasi sebenarnya\n",
        "\n",
        "-Fokus mengeksplorasi area yang berpotensi memberikan hasil terbaik\n",
        "\n",
        "4. Apa kelebihan BayesSearchCV dibandingkan metode hyperparameter tuning lainnya?\n",
        "\n",
        "-Lebih efisien: Membutuhkan lebih sedikit iterasi untuk menemukan parameter optimal\n",
        "\n",
        "-Lebih cerdas: Belajar dari iterasi sebelumnya, tidak seperti Random Search\n",
        "\n",
        "-Cocok untuk ruang parameter besar: Tidak perlu mengeksplorasi semua kombinasi seperti Grid Search\n",
        "\n",
        "-Konvergen lebih cepat: Biasanya menemukan solusi baik dalam iterasi yang lebih sedikit\n",
        "\n",
        "-Menangani berbagai tipe parameter: Bisa menangani continuous, integer, dan categorical parameters\n",
        "\n"
      ],
      "metadata": {
        "id": "pjbXCL2nNB9N"
      }
    },
    {
      "cell_type": "code",
      "execution_count": 8,
      "metadata": {
        "id": "2o0dt8txGE1k",
        "colab": {
          "base_uri": "https://localhost:8080/"
        },
        "outputId": "953cc78c-bd7d-49b4-a97a-cd472e9e6596"
      },
      "outputs": [
        {
          "output_type": "stream",
          "name": "stdout",
          "text": [
            "Requirement already satisfied: scikit-optimize in /usr/local/lib/python3.12/dist-packages (0.10.2)\n",
            "Requirement already satisfied: joblib>=0.11 in /usr/local/lib/python3.12/dist-packages (from scikit-optimize) (1.5.2)\n",
            "Requirement already satisfied: pyaml>=16.9 in /usr/local/lib/python3.12/dist-packages (from scikit-optimize) (25.7.0)\n",
            "Requirement already satisfied: numpy>=1.20.3 in /usr/local/lib/python3.12/dist-packages (from scikit-optimize) (2.0.2)\n",
            "Requirement already satisfied: scipy>=1.1.0 in /usr/local/lib/python3.12/dist-packages (from scikit-optimize) (1.16.2)\n",
            "Requirement already satisfied: scikit-learn>=1.0.0 in /usr/local/lib/python3.12/dist-packages (from scikit-optimize) (1.6.1)\n",
            "Requirement already satisfied: packaging>=21.3 in /usr/local/lib/python3.12/dist-packages (from scikit-optimize) (25.0)\n",
            "Requirement already satisfied: PyYAML in /usr/local/lib/python3.12/dist-packages (from pyaml>=16.9->scikit-optimize) (6.0.3)\n",
            "Requirement already satisfied: threadpoolctl>=3.1.0 in /usr/local/lib/python3.12/dist-packages (from scikit-learn>=1.0.0->scikit-optimize) (3.6.0)\n"
          ]
        }
      ],
      "source": [
        "# import library\n",
        "!pip install scikit-optimize\n",
        "from skopt import BayesSearchCV\n",
        "from skopt.space import Real, Categorical, Integer\n",
        "from sklearn.datasets import load_iris\n",
        "from sklearn.model_selection import train_test_split\n",
        "from sklearn.ensemble import RandomForestClassifier\n",
        "from sklearn.svm import SVC\n",
        "from sklearn.metrics import accuracy_score, classification_report\n",
        "import numpy as np"
      ]
    },
    {
      "cell_type": "code",
      "source": [
        "# Load Dataset\n",
        "X, y = load_iris(return_X_y=True)\n",
        "X_train, X_test, y_train, y_test = train_test_split(X, y, train_size=0.75, random_state=0)\n",
        "\n",
        "print(f\"Data train: {X_train.shape}\")\n",
        "print(f\"Data test: {X_test.shape}\")\n"
      ],
      "metadata": {
        "id": "v7ENirBIHIYz",
        "colab": {
          "base_uri": "https://localhost:8080/"
        },
        "outputId": "3da71ffd-969e-454f-9e1a-ed1eb1a10b13"
      },
      "execution_count": 9,
      "outputs": [
        {
          "output_type": "stream",
          "name": "stdout",
          "text": [
            "Data train: (112, 4)\n",
            "Data test: (38, 4)\n"
          ]
        }
      ]
    },
    {
      "cell_type": "code",
      "source": [
        "# Definisikan Model dan parameter yang akan dioptimasi (Ruang Hyperparameter)\n",
        "model = RandomForestClassifier(random_state=42)\n",
        "search_spaces = {\n",
        "    'n_estimators': Integer(100, 500),\n",
        "    'max_depth': Integer(3, 15),\n",
        "    'min_samples_split': Integer(2, 10),\n",
        "    'min_samples_leaf': Integer(1, 5),\n",
        "    'max_features': Categorical(['sqrt', 'log2'])\n",
        "}\n"
      ],
      "metadata": {
        "id": "vmyqOLU1IO3T"
      },
      "execution_count": 12,
      "outputs": []
    },
    {
      "cell_type": "markdown",
      "source": [
        "# Fungsi Optimisasi Menggunakan BayesianSearchCV"
      ],
      "metadata": {
        "id": "Ip5U8cL4OLUP"
      }
    },
    {
      "cell_type": "code",
      "source": [
        "# Inisialisasi BayesSearchCV\n",
        "bayes_search = BayesSearchCV(\n",
        "    estimator=model,\n",
        "    search_spaces=search_spaces,\n",
        "    n_iter=50,                    # Jumlah iterasi optimisasi\n",
        "    cv=5,                         # 5-fold cross validation\n",
        "    n_jobs=-1,                    # Gunakan semua core processor\n",
        "    random_state=42,\n",
        "    verbose=1\n",
        ")\n"
      ],
      "metadata": {
        "id": "BC0k0vXKOBJk"
      },
      "execution_count": 15,
      "outputs": []
    },
    {
      "cell_type": "code",
      "source": [
        "# Jalankan optimisasi\n",
        "print(\"Memulai optimisasi Bayesian Search...\")\n",
        "bayes_search.fit(X_train, y_train)\n",
        "print(\"Optimisasi selesai!\")\n",
        "\n",
        "print(\"\\n=== HASIL OPTIMISASI ===\")\n",
        "print(\"Parameter terbaik:\", bayes_search.best_params_)\n",
        "print(f\"Skor cross-validation terbaik: {bayes_search.best_score_:.4f}\")"
      ],
      "metadata": {
        "id": "EYoUwsYCOB5F",
        "colab": {
          "base_uri": "https://localhost:8080/"
        },
        "outputId": "10f1e2be-a4d9-46d5-ec2e-e8f845627865"
      },
      "execution_count": 16,
      "outputs": [
        {
          "output_type": "stream",
          "name": "stdout",
          "text": [
            "Memulai optimisasi Bayesian Search...\n",
            "Fitting 5 folds for each of 1 candidates, totalling 5 fits\n",
            "Fitting 5 folds for each of 1 candidates, totalling 5 fits\n",
            "Fitting 5 folds for each of 1 candidates, totalling 5 fits\n",
            "Fitting 5 folds for each of 1 candidates, totalling 5 fits\n",
            "Fitting 5 folds for each of 1 candidates, totalling 5 fits\n",
            "Fitting 5 folds for each of 1 candidates, totalling 5 fits\n",
            "Fitting 5 folds for each of 1 candidates, totalling 5 fits\n",
            "Fitting 5 folds for each of 1 candidates, totalling 5 fits\n",
            "Fitting 5 folds for each of 1 candidates, totalling 5 fits\n",
            "Fitting 5 folds for each of 1 candidates, totalling 5 fits\n",
            "Fitting 5 folds for each of 1 candidates, totalling 5 fits\n",
            "Fitting 5 folds for each of 1 candidates, totalling 5 fits\n",
            "Fitting 5 folds for each of 1 candidates, totalling 5 fits\n",
            "Fitting 5 folds for each of 1 candidates, totalling 5 fits\n",
            "Fitting 5 folds for each of 1 candidates, totalling 5 fits\n",
            "Fitting 5 folds for each of 1 candidates, totalling 5 fits\n",
            "Fitting 5 folds for each of 1 candidates, totalling 5 fits\n",
            "Fitting 5 folds for each of 1 candidates, totalling 5 fits\n",
            "Fitting 5 folds for each of 1 candidates, totalling 5 fits\n",
            "Fitting 5 folds for each of 1 candidates, totalling 5 fits\n",
            "Fitting 5 folds for each of 1 candidates, totalling 5 fits\n",
            "Fitting 5 folds for each of 1 candidates, totalling 5 fits\n",
            "Fitting 5 folds for each of 1 candidates, totalling 5 fits\n",
            "Fitting 5 folds for each of 1 candidates, totalling 5 fits\n",
            "Fitting 5 folds for each of 1 candidates, totalling 5 fits\n",
            "Fitting 5 folds for each of 1 candidates, totalling 5 fits\n",
            "Fitting 5 folds for each of 1 candidates, totalling 5 fits\n",
            "Fitting 5 folds for each of 1 candidates, totalling 5 fits\n",
            "Fitting 5 folds for each of 1 candidates, totalling 5 fits\n",
            "Fitting 5 folds for each of 1 candidates, totalling 5 fits\n",
            "Fitting 5 folds for each of 1 candidates, totalling 5 fits\n",
            "Fitting 5 folds for each of 1 candidates, totalling 5 fits\n",
            "Fitting 5 folds for each of 1 candidates, totalling 5 fits\n",
            "Fitting 5 folds for each of 1 candidates, totalling 5 fits\n",
            "Fitting 5 folds for each of 1 candidates, totalling 5 fits\n",
            "Fitting 5 folds for each of 1 candidates, totalling 5 fits\n",
            "Fitting 5 folds for each of 1 candidates, totalling 5 fits\n",
            "Fitting 5 folds for each of 1 candidates, totalling 5 fits\n",
            "Fitting 5 folds for each of 1 candidates, totalling 5 fits\n",
            "Fitting 5 folds for each of 1 candidates, totalling 5 fits\n",
            "Fitting 5 folds for each of 1 candidates, totalling 5 fits\n",
            "Fitting 5 folds for each of 1 candidates, totalling 5 fits\n",
            "Fitting 5 folds for each of 1 candidates, totalling 5 fits\n",
            "Fitting 5 folds for each of 1 candidates, totalling 5 fits\n",
            "Fitting 5 folds for each of 1 candidates, totalling 5 fits\n",
            "Fitting 5 folds for each of 1 candidates, totalling 5 fits\n",
            "Fitting 5 folds for each of 1 candidates, totalling 5 fits\n",
            "Fitting 5 folds for each of 1 candidates, totalling 5 fits\n",
            "Fitting 5 folds for each of 1 candidates, totalling 5 fits\n",
            "Fitting 5 folds for each of 1 candidates, totalling 5 fits\n",
            "Optimisasi selesai!\n",
            "\n",
            "=== HASIL OPTIMISASI ===\n",
            "Parameter terbaik: OrderedDict({'max_depth': 8, 'max_features': 'log2', 'min_samples_leaf': 5, 'min_samples_split': 5, 'n_estimators': 368})\n",
            "Skor cross-validation terbaik: 0.9553\n"
          ]
        }
      ]
    },
    {
      "cell_type": "code",
      "source": [
        "\n",
        "# Evaluasi Model\n",
        "print(\"\\n=== EVALUASI MODEL ===\")\n",
        "\n",
        "# Prediksi dengan model terbaik\n",
        "y_pred = bayes_search.predict(X_test)\n",
        "\n",
        "# Menghitung metrik evaluasi\n",
        "accuracy = accuracy_score(y_test, y_pred)\n",
        "\n",
        "print(f\"Akurasi pada data test: {accuracy:.4f}\")\n",
        "print(\"\\nClassification Report:\")\n",
        "print(classification_report(y_test, y_pred))\n",
        "\n",
        "# Memandingkan dengan model default (tanpa tuning)\n",
        "print(\"\\n=== PERBANDINGAN DENGAN MODEL DEFAULT ===\")\n",
        "default_model = RandomForestClassifier(random_state=42)\n",
        "default_model.fit(X_train, y_train)\n",
        "y_pred_default = default_model.predict(X_test)\n",
        "accuracy_default = accuracy_score(y_test, y_pred_default)\n",
        "\n",
        "print(f\"Akurasi model default: {accuracy_default:.4f}\")\n",
        "print(f\"Akurasi model setelah tuning: {accuracy:.4f}\")\n",
        "print(f\"Peningkatan akurasi: {accuracy - accuracy_default:.4f}\")"
      ],
      "metadata": {
        "id": "sox5OZx6OD0z",
        "colab": {
          "base_uri": "https://localhost:8080/"
        },
        "outputId": "e23d425d-690c-4d66-f551-549c622f0cea"
      },
      "execution_count": 17,
      "outputs": [
        {
          "output_type": "stream",
          "name": "stdout",
          "text": [
            "\n",
            "=== EVALUASI MODEL ===\n",
            "Akurasi pada data test: 0.9737\n",
            "\n",
            "Classification Report:\n",
            "              precision    recall  f1-score   support\n",
            "\n",
            "           0       1.00      1.00      1.00        13\n",
            "           1       1.00      0.94      0.97        16\n",
            "           2       0.90      1.00      0.95         9\n",
            "\n",
            "    accuracy                           0.97        38\n",
            "   macro avg       0.97      0.98      0.97        38\n",
            "weighted avg       0.98      0.97      0.97        38\n",
            "\n",
            "\n",
            "=== PERBANDINGAN DENGAN MODEL DEFAULT ===\n",
            "Akurasi model default: 0.9737\n",
            "Akurasi model setelah tuning: 0.9737\n",
            "Peningkatan akurasi: 0.0000\n"
          ]
        }
      ]
    }
  ]
}